{
 "cells": [
  {
   "cell_type": "code",
   "execution_count": 1,
   "id": "a3bc001a-d4e1-44ea-a19d-cc61d3d00479",
   "metadata": {},
   "outputs": [
    {
     "name": "stdout",
     "output_type": "stream",
     "text": [
      "C:\\Users\\aldhu\\anaconda3\\python.exe\n"
     ]
    }
   ],
   "source": [
    "import sys\n",
    "print(sys.executable)"
   ]
  },
  {
   "cell_type": "code",
   "execution_count": 2,
   "id": "8fe75be5",
   "metadata": {},
   "outputs": [
    {
     "name": "stdout",
     "output_type": "stream",
     "text": [
      "WARNING:tensorflow:From C:\\Users\\aldhu\\anaconda3\\Lib\\site-packages\\tf_keras\\src\\losses.py:2976: The name tf.losses.sparse_softmax_cross_entropy is deprecated. Please use tf.compat.v1.losses.sparse_softmax_cross_entropy instead.\n",
      "\n",
      "All libraries imported successfully\n"
     ]
    }
   ],
   "source": [
    "# Importing libraries\n",
    "import pandas as pd\n",
    "import numpy as np\n",
    "import re\n",
    "import spacy\n",
    "from nltk.stem import PorterStemmer\n",
    "from sklearn.metrics.pairwise import cosine_similarity\n",
    "import tensorflow as tf\n",
    "from transformers import BertTokenizer, TFBertModel\n",
    "from gensim.models.doc2vec import Doc2Vec, TaggedDocument\n",
    "import warnings\n",
    "warnings.filterwarnings(\"ignore\")\n",
    "\n",
    "print(\"All libraries imported successfully\")"
   ]
  },
  {
   "cell_type": "code",
   "execution_count": 3,
   "id": "197c3f35",
   "metadata": {},
   "outputs": [
    {
     "name": "stdout",
     "output_type": "stream",
     "text": [
      "Data loaded successfully\n"
     ]
    }
   ],
   "source": [
    "dataset_original = pd.read_csv(\"PotentialTalents.csv\")\n",
    "print(\"Data loaded successfully\")"
   ]
  },
  {
   "cell_type": "code",
   "execution_count": 4,
   "id": "f11a9e19",
   "metadata": {},
   "outputs": [],
   "source": [
    "# Inspecting & Cleaning the dataset\n",
    "dataset_cleaned_temp = dataset_original.copy()"
   ]
  },
  {
   "cell_type": "code",
   "execution_count": 5,
   "id": "8a522ac7",
   "metadata": {},
   "outputs": [
    {
     "name": "stdout",
     "output_type": "stream",
     "text": [
      "id              0\n",
      "job_title       0\n",
      "location        0\n",
      "connection      0\n",
      "fit           104\n",
      "dtype: int64\n"
     ]
    }
   ],
   "source": [
    "# Checking missing data\n",
    "print(dataset_cleaned_temp.isnull().sum())"
   ]
  },
  {
   "cell_type": "code",
   "execution_count": 6,
   "id": "cd0bb68b",
   "metadata": {},
   "outputs": [
    {
     "name": "stdout",
     "output_type": "stream",
     "text": [
      "0\n"
     ]
    }
   ],
   "source": [
    "# Checking duplicates\n",
    "print(dataset_cleaned_temp.duplicated().sum())"
   ]
  },
  {
   "cell_type": "code",
   "execution_count": 7,
   "id": "383e6d7a",
   "metadata": {},
   "outputs": [],
   "source": [
    "# Remove unnecessary words & Replace abbreviations\n",
    "spacy_nlp = spacy.load('en_core_web_sm')\n",
    "stemmer = PorterStemmer()\n",
    "abbreviations_to_replace = {\n",
    "    'GPHR': 'Global Professional in Human Resources',\n",
    "    'CSR': 'Corporate Social Responsibility',\n",
    "    'MES': 'Manufacturing Execution Systems',\n",
    "    'SPHR': 'Senior Professional in Human Resources',\n",
    "    'SVP': 'Senior Vice President',\n",
    "    'GIS': 'Geographic Information System',\n",
    "    'RRP': 'Reduced Risk Products',\n",
    "    'CHRO': 'Chief Human Resources Officer',\n",
    "    'HRIS': 'Human resources information system',\n",
    "    'HR': 'Human resources',\n",
    "}\n",
    "\n",
    "def replace_abbreviations(sentence):\n",
    "    replaced_sentence = sentence\n",
    "    for abbreviation, replacement in abbreviations_to_replace.items():\n",
    "        pattern = r'\\b{}\\b'.format(re.escape(abbreviation))\n",
    "        replaced_sentence = re.sub(pattern, replacement, replaced_sentence, flags=re.IGNORECASE)\n",
    "    return replaced_sentence\n",
    "\n",
    "def clean_sentence(sentence):\n",
    "    new_sentence = re.sub(r'[+*,.|(){}&\\-\\']', '', sentence)\n",
    "    new_sentence = replace_abbreviations(new_sentence)\n",
    "    words = new_sentence.split()\n",
    "    stemmed_words = [stemmer.stem(word) for word in words]\n",
    "    lemmatized_sentence = \" \".join([token.lemma_ for token in spacy_nlp(\" \".join(stemmed_words)) if not token.is_stop])\n",
    "    return lemmatized_sentence\n",
    "\n",
    "dataset_cleaned_temp['job_title_cleaned'] = dataset_cleaned_temp['job_title'].apply(clean_sentence)"
   ]
  },
  {
   "cell_type": "code",
   "execution_count": 8,
   "id": "c9b2036c",
   "metadata": {},
   "outputs": [],
   "source": [
    "# Preprocessing\n",
    "dataset_preprocessed = dataset_cleaned_temp.copy()"
   ]
  },
  {
   "cell_type": "code",
   "execution_count": 9,
   "id": "38ddc62a",
   "metadata": {},
   "outputs": [
    {
     "name": "stdout",
     "output_type": "stream",
     "text": [
      "WARNING:tensorflow:From C:\\Users\\aldhu\\anaconda3\\Lib\\site-packages\\tf_keras\\src\\backend.py:873: The name tf.get_default_graph is deprecated. Please use tf.compat.v1.get_default_graph instead.\n",
      "\n"
     ]
    },
    {
     "name": "stderr",
     "output_type": "stream",
     "text": [
      "Some weights of the PyTorch model were not used when initializing the TF 2.0 model TFBertModel: ['cls.predictions.transform.LayerNorm.bias', 'cls.seq_relationship.weight', 'cls.predictions.transform.dense.bias', 'cls.predictions.transform.dense.weight', 'cls.seq_relationship.bias', 'cls.predictions.transform.LayerNorm.weight', 'cls.predictions.bias']\n",
      "- This IS expected if you are initializing TFBertModel from a PyTorch model trained on another task or with another architecture (e.g. initializing a TFBertForSequenceClassification model from a BertForPreTraining model).\n",
      "- This IS NOT expected if you are initializing TFBertModel from a PyTorch model that you expect to be exactly identical (e.g. initializing a TFBertForSequenceClassification model from a BertForSequenceClassification model).\n",
      "All the weights of TFBertModel were initialized from the PyTorch model.\n",
      "If your task is similar to the task the model of the checkpoint was trained on, you can already use TFBertModel for predictions without further training.\n"
     ]
    }
   ],
   "source": [
    "# Setup BERT & Utils\n",
    "bert_tokenizer = BertTokenizer.from_pretrained('bert-base-uncased')\n",
    "bert_model = TFBertModel.from_pretrained(\"bert-base-uncased\")\n",
    "\n",
    "def get_bert_embeddings(sentences):\n",
    "    embeddings = []\n",
    "    for sentence in sentences:\n",
    "        encoded_inputs = bert_tokenizer(sentence, padding=True, truncation=True, return_tensors='tf')\n",
    "        outputs = bert_model(encoded_inputs)\n",
    "        embeddings.append(tf.reduce_mean(outputs.last_hidden_state, axis=1).numpy().reshape(-1))\n",
    "    return np.array(embeddings)"
   ]
  },
  {
   "cell_type": "code",
   "execution_count": 10,
   "id": "c8e99c19",
   "metadata": {},
   "outputs": [],
   "source": [
    "# Setup Doc2Vec\n",
    "tagged_data = [TaggedDocument(words=clean_sentence(job_title).split(), tags=[str(i)]) for i, job_title in enumerate(dataset_preprocessed['job_title_cleaned'])]\n",
    "doc2vec_model = Doc2Vec(vector_size=768, window=2, min_count=1, workers=4, epochs=40)\n",
    "doc2vec_model.build_vocab(tagged_data)\n",
    "doc2vec_model.train(tagged_data, total_examples=doc2vec_model.corpus_count, epochs=doc2vec_model.epochs)\n",
    "\n",
    "def get_doc2vec_embeddings(sentences):\n",
    "    embeddings = []\n",
    "    for sentence in sentences:\n",
    "        embeddings.append(doc2vec_model.infer_vector(sentence.split()))\n",
    "    return np.array(embeddings)"
   ]
  },
  {
   "cell_type": "code",
   "execution_count": 11,
   "id": "8b51dd46",
   "metadata": {},
   "outputs": [],
   "source": [
    "# Encode and get similarity\n",
    "def encode_and_get_similarity(data, queries, search_columns, output_columns):\n",
    "    data = data.copy()\n",
    "    bert_embeddings = {}\n",
    "    doc2vec_embeddings = {}\n",
    "    queries_embeddings = []\n",
    "    doc2vec_queries_embeddings = []\n",
    "\n",
    "    for index, query in enumerate(queries):\n",
    "        query_cleaned = replace_abbreviations(query)\n",
    "        query_cleaned = clean_sentence(query_cleaned)\n",
    "        queries_embeddings.append(get_bert_embeddings([query_cleaned]))\n",
    "        doc2vec_queries_embeddings.append(get_doc2vec_embeddings([query_cleaned]))\n",
    "\n",
    "    queries_embeddings_mean = np.mean(queries_embeddings, axis=0)\n",
    "    doc2vec_queries_embeddings_mean = np.mean(doc2vec_queries_embeddings, axis=0)\n",
    "\n",
    "    for index, column in enumerate(search_columns):\n",
    "        sentences = data[column].tolist()\n",
    "        bert_embeddings[column] = get_bert_embeddings(sentences)\n",
    "        doc2vec_embeddings[column] = get_doc2vec_embeddings(sentences)\n",
    "        \n",
    "        bert_cosine_similarities = cosine_similarity(queries_embeddings_mean, bert_embeddings[column])\n",
    "        doc2vec_cosine_similarities = cosine_similarity(doc2vec_queries_embeddings_mean, doc2vec_embeddings[column])\n",
    "        \n",
    "        print(f\"BERT similarities shape: {bert_cosine_similarities.shape}\")\n",
    "        print(f\"Doc2Vec similarities shape: {doc2vec_cosine_similarities.shape}\")\n",
    "\n",
    "        if len(output_columns) > 0:\n",
    "            data[output_columns[0]] = bert_cosine_similarities[0]\n",
    "        if len(output_columns) > 1:\n",
    "            data[output_columns[1]] = doc2vec_cosine_similarities[0]\n",
    "    \n",
    "    return data\n"
   ]
  },
  {
   "cell_type": "code",
   "execution_count": 12,
   "id": "40f7194a",
   "metadata": {},
   "outputs": [],
   "source": [
    "# Search queries/keywords\n",
    "queries = [\n",
    "    'aspiring human resources',\n",
    "    'seeking human resources'\n",
    "]"
   ]
  },
  {
   "cell_type": "code",
   "execution_count": 13,
   "id": "38a9fd35",
   "metadata": {},
   "outputs": [
    {
     "name": "stdout",
     "output_type": "stream",
     "text": [
      "BERT similarities shape: (1, 104)\n",
      "Doc2Vec similarities shape: (1, 104)\n"
     ]
    }
   ],
   "source": [
    "# Get embeddings & similarities\n",
    "dataset_preprocessed = encode_and_get_similarity(dataset_preprocessed, queries, ['job_title_cleaned'], ['bert_similarity', 'doc2vec_similarity'])"
   ]
  },
  {
   "cell_type": "code",
   "execution_count": 14,
   "id": "09c30fc6",
   "metadata": {},
   "outputs": [],
   "source": [
    "# Calculate mean of BERT and Doc2Vec similarities\n",
    "dataset_preprocessed['mean_score'] = dataset_preprocessed[['bert_similarity', 'doc2vec_similarity']].mean(axis=1)"
   ]
  },
  {
   "cell_type": "code",
   "execution_count": 15,
   "id": "f9450d1b",
   "metadata": {},
   "outputs": [],
   "source": [
    "# Sort the dataframe based on the new mean_score in descending order\n",
    "dataset_preprocessed = dataset_preprocessed.sort_values(by='mean_score', ascending=False)"
   ]
  },
  {
   "cell_type": "code",
   "execution_count": 16,
   "id": "eadf930e",
   "metadata": {},
   "outputs": [
    {
     "name": "stdout",
     "output_type": "stream",
     "text": [
      "Top 20 Candidates based on BERT Similarity:\n",
      "                                             job_title  bert_similarity\n",
      "59                 Aspiring Human Resources Specialist         0.918639\n",
      "48                 Aspiring Human Resources Specialist         0.918639\n",
      "23                 Aspiring Human Resources Specialist         0.918639\n",
      "35                 Aspiring Human Resources Specialist         0.918639\n",
      "5                  Aspiring Human Resources Specialist         0.918639\n",
      "98                    Seeking Human Resources Position         0.899538\n",
      "67             Human Resources Specialist at Luxottica         0.890844\n",
      "87                    Human Resources Management Major         0.883634\n",
      "100              Human Resources Generalist at Loparex         0.867990\n",
      "20               Aspiring Human Resources Professional         0.860986\n",
      "2                Aspiring Human Resources Professional         0.860986\n",
      "32               Aspiring Human Resources Professional         0.860986\n",
      "57               Aspiring Human Resources Professional         0.860986\n",
      "16               Aspiring Human Resources Professional         0.860986\n",
      "45               Aspiring Human Resources Professional         0.860986\n",
      "96               Aspiring Human Resources Professional         0.860986\n",
      "88                     Director Human Resources  at EY         0.845359\n",
      "81   Aspiring Human Resources Professional | An ene...         0.839728\n",
      "7                                 HR Senior Specialist         0.837753\n",
      "60                                HR Senior Specialist         0.837753\n",
      "\n",
      "Top 20 Candidates based on Doc2Vec Similarity:\n",
      "                                             job_title  doc2vec_similarity\n",
      "83   Human Resources professional for the world lea...            0.970110\n",
      "89   Undergraduate Research Assistant at Styczynski...            0.970104\n",
      "86   Bachelor of Science in Biology from Victoria U...            0.970046\n",
      "90        Lead Official at Western Illinois University            0.970032\n",
      "101   Business Intelligence and Analytics at Travelers            0.970010\n",
      "95   Student at Indiana University Kokomo - Busines...            0.969986\n",
      "91   Seeking employment opportunities within Custom...            0.969975\n",
      "103   Director Of Administration at Excellence Logging            0.969970\n",
      "84   RRP Brand Portfolio Executive at JTI (Japan To...            0.969947\n",
      "85   Information Systems Specialist and Programmer ...            0.969936\n",
      "70     Human Resources Generalist at ScottMadden, Inc.            0.969927\n",
      "74   Nortia Staffing is seeking Human Resources, Pa...            0.969925\n",
      "93   Seeking Human  Resources Opportunities. Open t...            0.969924\n",
      "11   SVP, CHRO, Marketing & Communications, CSR Off...            0.969913\n",
      "30   2019 C.T. Bauer College of Business Graduate (...            0.969912\n",
      "92   Admissions Representative at Community medical...            0.969906\n",
      "41   SVP, CHRO, Marketing & Communications, CSR Off...            0.969906\n",
      "63   SVP, CHRO, Marketing & Communications, CSR Off...            0.969903\n",
      "54   SVP, CHRO, Marketing & Communications, CSR Off...            0.969900\n",
      "75   Aspiring Human Resources Professional | Passio...            0.969898\n"
     ]
    }
   ],
   "source": [
    "# First Rank for BERT and Doc2Vec using mean_score\n",
    "first_rank_bert = dataset_preprocessed.sort_values(by='bert_similarity', ascending=False).head(20)\n",
    "first_rank_doc2vec = dataset_preprocessed.sort_values(by='doc2vec_similarity', ascending=False).head(20)\n",
    "\n",
    "# Print the initial rankings\n",
    "print(\"Top 20 Candidates based on BERT Similarity:\")\n",
    "print(first_rank_bert[['job_title', 'bert_similarity']])\n",
    "\n",
    "print(\"\\nTop 20 Candidates based on Doc2Vec Similarity:\")\n",
    "print(first_rank_doc2vec[['job_title', 'doc2vec_similarity']])"
   ]
  },
  {
   "cell_type": "code",
   "execution_count": 17,
   "id": "8799abf3",
   "metadata": {},
   "outputs": [
    {
     "name": "stdin",
     "output_type": "stream",
     "text": [
      "Enter the ids of the candidates you want to star (separate by spaces):  63\n"
     ]
    }
   ],
   "source": [
    "# Starred Candidates\n",
    "# Marking them as favorite/bookmark\n",
    "starred_ids = [int(item) for item in input(\"Enter the ids of the candidates you want to star (separate by spaces): \").split()]"
   ]
  },
  {
   "cell_type": "code",
   "execution_count": 18,
   "id": "78325519",
   "metadata": {},
   "outputs": [
    {
     "name": "stdout",
     "output_type": "stream",
     "text": [
      "START: student chapman univer\n",
      "BERT similarities shape: (1, 104)\n",
      "Doc2Vec similarities shape: (1, 104)\n",
      "Final Rank using BERT embeddings:\n",
      "                                  job_title  is_starred  bert_similarity  \\\n",
      "87         Human Resources Management Major         0.0         0.883634   \n",
      "98         Seeking Human Resources Position         0.0         0.899538   \n",
      "88          Director Human Resources  at EY         0.0         0.845359   \n",
      "59      Aspiring Human Resources Specialist         0.0         0.918639   \n",
      "35      Aspiring Human Resources Specialist         0.0         0.918639   \n",
      "5       Aspiring Human Resources Specialist         0.0         0.918639   \n",
      "48      Aspiring Human Resources Specialist         0.0         0.918639   \n",
      "23      Aspiring Human Resources Specialist         0.0         0.918639   \n",
      "96    Aspiring Human Resources Professional         0.0         0.860986   \n",
      "45    Aspiring Human Resources Professional         0.0         0.860986   \n",
      "16    Aspiring Human Resources Professional         0.0         0.860986   \n",
      "57    Aspiring Human Resources Professional         0.0         0.860986   \n",
      "20    Aspiring Human Resources Professional         0.0         0.860986   \n",
      "32    Aspiring Human Resources Professional         0.0         0.860986   \n",
      "2     Aspiring Human Resources Professional         0.0         0.860986   \n",
      "67  Human Resources Specialist at Luxottica         0.0         0.890844   \n",
      "73             Human Resources Professional         0.0         0.834357   \n",
      "50                     HR Senior Specialist         0.0         0.837753   \n",
      "7                      HR Senior Specialist         0.0         0.837753   \n",
      "25                     HR Senior Specialist         0.0         0.837753   \n",
      "\n",
      "    starred_similarity  mean_similarity_bert  \n",
      "87            0.535341              0.709487  \n",
      "98            0.507723              0.703631  \n",
      "88            0.553898              0.699628  \n",
      "59            0.478604              0.698621  \n",
      "35            0.478604              0.698621  \n",
      "5             0.478604              0.698621  \n",
      "48            0.478604              0.698621  \n",
      "23            0.478604              0.698621  \n",
      "96            0.521580              0.691283  \n",
      "45            0.521580              0.691283  \n",
      "16            0.521580              0.691283  \n",
      "57            0.521580              0.691283  \n",
      "20            0.521580              0.691283  \n",
      "32            0.521580              0.691283  \n",
      "2             0.521580              0.691283  \n",
      "67            0.488679              0.689761  \n",
      "73            0.544056              0.689207  \n",
      "50            0.537678              0.687716  \n",
      "7             0.537678              0.687716  \n",
      "25            0.537678              0.687716  \n",
      "Final Rank using Doc2Vec embeddings:\n",
      "                                            job_title  is_starred  \\\n",
      "53                      Student at Chapman University         0.0   \n",
      "40                      Student at Chapman University         0.0   \n",
      "62                      Student at Chapman University         1.0   \n",
      "10                      Student at Chapman University         0.0   \n",
      "94              Student at Westfield State University         0.0   \n",
      "86  Bachelor of Science in Biology from Victoria U...         0.0   \n",
      "95  Student at Indiana University Kokomo - Busines...         0.0   \n",
      "31  Native English Teacher at EPIK (English Progra...         0.0   \n",
      "15  Native English Teacher at EPIK (English Progra...         0.0   \n",
      "1   Native English Teacher at EPIK (English Progra...         0.0   \n",
      "44  Native English Teacher at EPIK (English Progra...         0.0   \n",
      "19  Native English Teacher at EPIK (English Progra...         0.0   \n",
      "90       Lead Official at Western Illinois University         0.0   \n",
      "22    Advisory Board Member at Celal Bayar University         0.0   \n",
      "4     Advisory Board Member at Celal Bayar University         0.0   \n",
      "47    Advisory Board Member at Celal Bayar University         0.0   \n",
      "34    Advisory Board Member at Celal Bayar University         0.0   \n",
      "28  Aspiring Human Resources Management student se...         0.0   \n",
      "26  Aspiring Human Resources Management student se...         0.0   \n",
      "89  Undergraduate Research Assistant at Styczynski...         0.0   \n",
      "\n",
      "    doc2vec_similarity  starred_similarity  mean_similarity_doc2vec  \n",
      "53            0.967515            0.833680                 0.900597  \n",
      "40            0.967269            0.833680                 0.900474  \n",
      "62            0.964549            0.833680                 0.899115  \n",
      "10            0.958943            0.833680                 0.896311  \n",
      "94            0.969423            0.809026                 0.889225  \n",
      "86            0.970046            0.667807                 0.818926  \n",
      "95            0.969986            0.644551                 0.807269  \n",
      "31            0.969856            0.609151                 0.789504  \n",
      "15            0.969843            0.609151                 0.789497  \n",
      "1             0.969823            0.609151                 0.789487  \n",
      "44            0.969816            0.609151                 0.789483  \n",
      "19            0.969758            0.609151                 0.789455  \n",
      "90            0.970032            0.602911                 0.786472  \n",
      "22            0.969711            0.580542                 0.775126  \n",
      "4             0.969706            0.580542                 0.775124  \n",
      "47            0.969581            0.580542                 0.775062  \n",
      "34            0.969524            0.580542                 0.775033  \n",
      "28            0.969728            0.577335                 0.773531  \n",
      "26            0.969223            0.577335                 0.773279  \n",
      "89            0.970104            0.570301                 0.770203  \n",
      "Top candidates sorted by mean similarity score:\n",
      "                                             job_title  bert_similarity  \\\n",
      "59                 Aspiring Human Resources Specialist         0.918639   \n",
      "35                 Aspiring Human Resources Specialist         0.918639   \n",
      "5                  Aspiring Human Resources Specialist         0.918639   \n",
      "98                    Seeking Human Resources Position         0.899538   \n",
      "67             Human Resources Specialist at Luxottica         0.890844   \n",
      "87                    Human Resources Management Major         0.883634   \n",
      "48                 Aspiring Human Resources Specialist         0.918639   \n",
      "100              Human Resources Generalist at Loparex         0.867990   \n",
      "23                 Aspiring Human Resources Specialist         0.918639   \n",
      "96               Aspiring Human Resources Professional         0.860986   \n",
      "45               Aspiring Human Resources Professional         0.860986   \n",
      "16               Aspiring Human Resources Professional         0.860986   \n",
      "57               Aspiring Human Resources Professional         0.860986   \n",
      "20               Aspiring Human Resources Professional         0.860986   \n",
      "32               Aspiring Human Resources Professional         0.860986   \n",
      "2                Aspiring Human Resources Professional         0.860986   \n",
      "88                     Director Human Resources  at EY         0.845359   \n",
      "81   Aspiring Human Resources Professional | An ene...         0.839728   \n",
      "80   Senior Human Resources Business Partner at Hei...         0.836062   \n",
      "78   Liberal Arts Major. Aspiring Human Resources A...         0.833361   \n",
      "\n",
      "     doc2vec_similarity  mean_score  \n",
      "59             0.956709    0.937674  \n",
      "35             0.956153    0.937396  \n",
      "5              0.950229    0.934434  \n",
      "98             0.963322    0.931430  \n",
      "67             0.969391    0.930118  \n",
      "87             0.969043    0.926339  \n",
      "48             0.929053    0.923846  \n",
      "100            0.968353    0.918172  \n",
      "23             0.916458    0.917548  \n",
      "96             0.968633    0.914810  \n",
      "45             0.968156    0.914571  \n",
      "16             0.967887    0.914437  \n",
      "57             0.967846    0.914416  \n",
      "20             0.967599    0.914293  \n",
      "32             0.967465    0.914226  \n",
      "2              0.967196    0.914091  \n",
      "88             0.968809    0.907084  \n",
      "81             0.969859    0.904794  \n",
      "80             0.969279    0.902670  \n",
      "78             0.969872    0.901617  \n"
     ]
    }
   ],
   "source": [
    "# Second Rank (Re-Rank)\n",
    "dataset_preprocessed.loc[dataset_preprocessed['id'].isin(starred_ids), 'is_starred'] = 1\n",
    "dataset_preprocessed.loc[~dataset_preprocessed['id'].isin(starred_ids), 'is_starred'] = 0\n",
    "\n",
    "def get_starred_score(data):\n",
    "    data = data.copy()\n",
    "    queries = data[data['is_starred'] == 1]['job_title_cleaned']\n",
    "    similarities = []\n",
    "    for query in queries:\n",
    "        print('START: ' + query)\n",
    "        data = encode_and_get_similarity(data, [query], ['job_title_cleaned'], ['starred_similarity'])\n",
    "        if 'starred_similarity' in data.columns:\n",
    "            similarities.append(data['starred_similarity'])\n",
    "        else:\n",
    "            print(\"Column 'starred_similarity' not found in data.\")\n",
    "        \n",
    "    if len(similarities) > 0:\n",
    "        starred_similarity = np.mean(similarities, axis=0)\n",
    "    else:\n",
    "        starred_similarity = np.zeros(len(data))\n",
    "    \n",
    "    return starred_similarity\n",
    "\n",
    "dataset_preprocessed['starred_similarity'] = get_starred_score(dataset_preprocessed)\n",
    "dataset_preprocessed['mean_similarity_bert'] = dataset_preprocessed[['bert_similarity', 'starred_similarity']].mean(axis=1)\n",
    "dataset_preprocessed['mean_similarity_doc2vec'] = dataset_preprocessed[['doc2vec_similarity', 'starred_similarity']].mean(axis=1)\n",
    "\n",
    "final_rank_bert = dataset_preprocessed[['job_title', 'is_starred', 'bert_similarity', 'starred_similarity', 'mean_similarity_bert']].sort_values(by=['mean_similarity_bert', 'is_starred'], ascending=False).head(20)\n",
    "final_rank_doc2vec = dataset_preprocessed[['job_title', 'is_starred', 'doc2vec_similarity', 'starred_similarity', 'mean_similarity_doc2vec']].sort_values(by=['mean_similarity_doc2vec', 'is_starred'], ascending=False).head(20)\n",
    "\n",
    "print(\"Final Rank using BERT embeddings:\")\n",
    "print(final_rank_bert)\n",
    "\n",
    "print(\"Final Rank using Doc2Vec embeddings:\")\n",
    "print(final_rank_doc2vec)\n",
    "\n",
    "print(\"Top candidates sorted by mean similarity score:\")\n",
    "print(dataset_preprocessed[['job_title', 'bert_similarity', 'doc2vec_similarity', 'mean_score']].head(20))  # Display top sorted candidates"
   ]
  },
  {
   "cell_type": "code",
   "execution_count": null,
   "id": "5df59cea",
   "metadata": {},
   "outputs": [],
   "source": []
  }
 ],
 "metadata": {
  "kernelspec": {
   "display_name": "Python 3 (ipykernel)",
   "language": "python",
   "name": "python3"
  },
  "language_info": {
   "codemirror_mode": {
    "name": "ipython",
    "version": 3
   },
   "file_extension": ".py",
   "mimetype": "text/x-python",
   "name": "python",
   "nbconvert_exporter": "python",
   "pygments_lexer": "ipython3",
   "version": "3.12.4"
  }
 },
 "nbformat": 4,
 "nbformat_minor": 5
}
